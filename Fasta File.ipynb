{
 "cells": [
  {
   "cell_type": "markdown",
   "metadata": {},
   "source": [
    "# Tutorial read Fasta file"
   ]
  },
  {
   "cell_type": "markdown",
   "metadata": {},
   "source": [
    "> La liaison de petites molécules aux ARNs est un mécanisme important qui peut stabiliser les structures 3D ou \n",
    " activer des fonctions moléculaires essentielles. \n",
    "\n",
    "> On peut explorer un vaste répertoire de voies biologiques et pourrait conduire à de nouvelles \n",
    " pistes thérapeutiques.\n"
   ]
  },
  {
   "cell_type": "code",
   "execution_count": 12,
   "metadata": {},
   "outputs": [],
   "source": [
    "# from IPython.display import display\n",
    "class Fasta:\n",
    "    def __init__(self, data):\n",
    "        self.data = data\n",
    "    def _ipython_display_(self):\n",
    "        bundle = {\n",
    "            'application/vnd.fasta.fasta': self.data,\n",
    "            'text/plain': data\n",
    "        }\n",
    "        display(bundle, raw=True)"
   ]
  },
  {
   "cell_type": "code",
   "execution_count": 13,
   "metadata": {},
   "outputs": [
    {
     "data": {
      "application/vnd.fasta.fasta": ">0 <unknown description>\nAACCGTCAGAAGAGAGCTTTATGCAC\n>1 <unknown description>\nATCCGTCAGGATAGAGTTTTATTCTC\n>2 <unknown description>\nAACCGTCCGAATCGAGCATTATTCTC\n>3 <unknown description>\nAACCGTCCGAATAGCCCTTTATTCTC\n>4 <unknown description>\nATCGGTACGAATAGAGCTTTATTCTC\n>5 <unknown description>\nAACCGTCGGAAAAGAGCTTTAGTCTC\n>6 <unknown description>\nAACCGTCCGTGTACAGCTTTATTCGG\n>7 <unknown description>\nAACCGGCATTACGGAGCTTTATTCTC\n>8 <unknown description>\nAACCGTCCGAATAGATTTTTACTCTG\n>9 <unknown description>\nGACCGGCCGAATAGAGATTTATTCTC\n>10 <unknown description>\nACCGATCCGTATAGAGCATTAGTCTC\n>11 <unknown description>\nAACCGTCCGAACAGACCTTTATTCTC\n>12 <unknown description>\nAACCGTCCGAAGAGAGCTTTCCGCTC\n>13 <unknown description>\nCACCGTCCTAATAGACCTGTATCCTC\n>14 <unknown description>\nAACCGTCCGAAAAGAGCTTTATTCTC\n>15 <unknown description>\nACCCGTCCGAATAGAGCTTTATTCTC\n>16 <unknown description>\nAACCGGCTGAAGAGAGCTTTATTCGC\n>17 <unknown description>\nAATCGTCCGAAGAGAGCTTTATACTC\n>18 <unknown description>\nATCCGCCAGAATAGAGCTTTGCTCTC\n>19 <unknown description>\nAACCGTCTGGATAGAGTTTGATTCGC\n",
      "text/plain": [
       ">0 <unknown description>\n",
       "AACCGTCAGAAGAGAGCTTTATGCAC\n",
       ">1 <unknown description>\n",
       "ATCCGTCAGGATAGAGTTTTATTCTC\n",
       ">2 <unknown description>\n",
       "AACCGTCCGAATCGAGCATTATTCTC\n",
       ">3 <unknown description>\n",
       "AACCGTCCGAATAGCCCTTTATTCTC\n",
       ">4 <unknown description>\n",
       "ATCGGTACGAATAGAGCTTTATTCTC\n",
       ">5 <unknown description>\n",
       "AACCGTCGGAAAAGAGCTTTAGTCTC\n",
       ">6 <unknown description>\n",
       "AACCGTCCGTGTACAGCTTTATTCGG\n",
       ">7 <unknown description>\n",
       "AACCGGCATTACGGAGCTTTATTCTC\n",
       ">8 <unknown description>\n",
       "AACCGTCCGAATAGATTTTTACTCTG\n",
       ">9 <unknown description>\n",
       "GACCGGCCGAATAGAGATTTATTCTC\n",
       ">10 <unknown description>\n",
       "ACCGATCCGTATAGAGCATTAGTCTC\n",
       ">11 <unknown description>\n",
       "AACCGTCCGAACAGACCTTTATTCTC\n",
       ">12 <unknown description>\n",
       "AACCGTCCGAAGAGAGCTTTCCGCTC\n",
       ">13 <unknown description>\n",
       "CACCGTCCTAATAGACCTGTATCCTC\n",
       ">14 <unknown description>\n",
       "AACCGTCCGAAAAGAGCTTTATTCTC\n",
       ">15 <unknown description>\n",
       "ACCCGTCCGAATAGAGCTTTATTCTC\n",
       ">16 <unknown description>\n",
       "AACCGGCTGAAGAGAGCTTTATTCGC\n",
       ">17 <unknown description>\n",
       "AATCGTCCGAAGAGAGCTTTATACTC\n",
       ">18 <unknown description>\n",
       "ATCCGCCAGAATAGAGCTTTGCTCTC\n",
       ">19 <unknown description>\n",
       "AACCGTCTGGATAGAGTTTGATTCGC\n"
      ]
     },
     "metadata": {},
     "output_type": "display_data"
    }
   ],
   "source": [
    "with open('seqs.fasta') as f:\n",
    "    data = f.read()\n",
    "Fasta(data)"
   ]
  },
  {
   "cell_type": "code",
   "execution_count": null,
   "metadata": {},
   "outputs": [],
   "source": []
  }
 ],
 "metadata": {
  "kernelspec": {
   "display_name": "Python 3",
   "language": "python",
   "name": "python3"
  },
  "language_info": {
   "codemirror_mode": {
    "name": "ipython",
    "version": 3
   },
   "file_extension": ".py",
   "mimetype": "text/x-python",
   "name": "python",
   "nbconvert_exporter": "python",
   "pygments_lexer": "ipython3",
   "version": "3.7.4"
  }
 },
 "nbformat": 4,
 "nbformat_minor": 2
}
